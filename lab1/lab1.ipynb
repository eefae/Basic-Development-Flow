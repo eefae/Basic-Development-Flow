{
 "cells": [
  {
   "cell_type": "code",
   "execution_count": 1,
   "id": "e2779b34",
   "metadata": {},
   "outputs": [],
   "source": [
    "from pynq import Overlay\n"
   ]
  },
  {
   "cell_type": "code",
   "execution_count": 2,
   "id": "232c9558",
   "metadata": {},
   "outputs": [
    {
     "data": {
      "application/javascript": [
       "\n",
       "try {\n",
       "require(['notebook/js/codecell'], function(codecell) {\n",
       "  codecell.CodeCell.options_default.highlight_modes[\n",
       "      'magic_text/x-csrc'] = {'reg':[/^%%microblaze/]};\n",
       "  Jupyter.notebook.events.one('kernel_ready.Kernel', function(){\n",
       "      Jupyter.notebook.get_cells().map(function(cell){\n",
       "          if (cell.cell_type == 'code'){ cell.auto_highlight(); } }) ;\n",
       "  });\n",
       "});\n",
       "} catch (e) {};\n"
      ]
     },
     "metadata": {},
     "output_type": "display_data"
    },
    {
     "data": {
      "application/javascript": [
       "\n",
       "try {\n",
       "require(['notebook/js/codecell'], function(codecell) {\n",
       "  codecell.CodeCell.options_default.highlight_modes[\n",
       "      'magic_text/x-csrc'] = {'reg':[/^%%pybind11/]};\n",
       "  Jupyter.notebook.events.one('kernel_ready.Kernel', function(){\n",
       "      Jupyter.notebook.get_cells().map(function(cell){\n",
       "          if (cell.cell_type == 'code'){ cell.auto_highlight(); } }) ;\n",
       "  });\n",
       "});\n",
       "} catch (e) {};\n"
      ]
     },
     "metadata": {},
     "output_type": "display_data"
    }
   ],
   "source": [
    "overlay = Overlay(\"/home/xilinx/jupyter_notebooks/for_loop/design_1_wrapper.bit\")"
   ]
  },
  {
   "cell_type": "code",
   "execution_count": 3,
   "id": "a1506178",
   "metadata": {},
   "outputs": [],
   "source": [
    "#overlay?"
   ]
  },
  {
   "cell_type": "code",
   "execution_count": 4,
   "id": "5e6ed5e4",
   "metadata": {},
   "outputs": [],
   "source": [
    "loop = overlay.testloop_0"
   ]
  },
  {
   "cell_type": "code",
   "execution_count": 5,
   "id": "1e0cc92f",
   "metadata": {},
   "outputs": [],
   "source": [
    "# pl\n",
    "def testloop(I):\n",
    "    loop.write(0x10,I)\n",
    "    return loop.read(0x18)"
   ]
  },
  {
   "cell_type": "code",
   "execution_count": 6,
   "id": "df2a33f3",
   "metadata": {},
   "outputs": [],
   "source": [
    "# ps\n",
    "def for_loop(I):\n",
    "    I = 10\n",
    "    accum = 0\n",
    "    for i in range(I):\n",
    "        for j in range(I):\n",
    "            for k in range(I):\n",
    "                accum = accum + 1;\n",
    "    return accum"
   ]
  },
  {
   "cell_type": "code",
   "execution_count": 7,
   "id": "79286b55",
   "metadata": {},
   "outputs": [],
   "source": [
    "import timeit"
   ]
  },
  {
   "cell_type": "code",
   "execution_count": 8,
   "id": "c52f4b51",
   "metadata": {},
   "outputs": [
    {
     "name": "stdout",
     "output_type": "stream",
     "text": [
      "1000\n"
     ]
    },
    {
     "data": {
      "text/plain": [
       "6.688000030408148e-05"
      ]
     },
     "execution_count": 8,
     "metadata": {},
     "output_type": "execute_result"
    }
   ],
   "source": [
    "I = 10\n",
    "print(testloop(I))\n",
    "timeit.timeit(stmt = \"testloop(I)\", setup = \"from __main__ import testloop; I = 10\", number=1)"
   ]
  },
  {
   "cell_type": "code",
   "execution_count": 9,
   "id": "26a991ac",
   "metadata": {},
   "outputs": [
    {
     "name": "stdout",
     "output_type": "stream",
     "text": [
      "1000\n"
     ]
    },
    {
     "data": {
      "text/plain": [
       "0.0005144599999766797"
      ]
     },
     "execution_count": 9,
     "metadata": {},
     "output_type": "execute_result"
    }
   ],
   "source": [
    "print(for_loop(I))\n",
    "timeit.timeit(stmt = \"for_loop(I)\", setup = \"from __main__ import for_loop; I = 10\", number=1)"
   ]
  },
  {
   "cell_type": "code",
   "execution_count": null,
   "id": "34b7efa3",
   "metadata": {},
   "outputs": [],
   "source": []
  }
 ],
 "metadata": {
  "kernelspec": {
   "display_name": "Python 3 (ipykernel)",
   "language": "python",
   "name": "python3"
  },
  "language_info": {
   "codemirror_mode": {
    "name": "ipython",
    "version": 3
   },
   "file_extension": ".py",
   "mimetype": "text/x-python",
   "name": "python",
   "nbconvert_exporter": "python",
   "pygments_lexer": "ipython3",
   "version": "3.10.4"
  }
 },
 "nbformat": 4,
 "nbformat_minor": 5
}
